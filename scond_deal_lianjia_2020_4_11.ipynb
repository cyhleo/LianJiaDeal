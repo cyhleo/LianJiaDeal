{
 "cells": [
  {
   "cell_type": "markdown",
   "metadata": {},
   "source": [
    "### 一、分析背景\n",
    "近年来房地产行业发展迅猛，二手房的买卖也成为一种新的热门。为了分析厦门地区二手房交易情况，本次项目分析了行业巨头链家关于厦门市二手房的交易数据。"
   ]
  },
  {
   "cell_type": "markdown",
   "metadata": {},
   "source": [
    "### 二、提出问题\n",
    "1. 二手房交易数量随时间的变化情况\n",
    "2. 交易数量与月份的关系，哪个月份房子销售数量最高\n",
    "3. 最受欢迎的户型是哪一种户型\n",
    "4. 单位面积价格是否受到产权属性的影响\n",
    "5. 每个区域单位面积价格的高低、排名情况\n"
   ]
  },
  {
   "cell_type": "markdown",
   "metadata": {},
   "source": [
    "### 三、数据概况\n",
    "数据来源于域名为'lianjia.com'的链家网，数据包含厦门市2015年5月到2020年4月的二手房房交易信息，共8325条数据，\n",
    "每条数据包含如下字段：\n",
    "\n",
    "<br>name-链家网标题 \n",
    "<br>total_price-交易总价\n",
    "<br>unit_price-单价\n",
    "<br>time-交易时间\n",
    "<br>area-房屋面积\n",
    "<br>type-户型\n",
    "<br>direction-朝向\n",
    "<br>fitment-装修情况\n",
    "<br>location-地理位置\n",
    "<br>residential-所属小区\n",
    "<br>elevator-是否有电梯\n",
    "<br>purpose-房屋用途\n",
    "<br>property-房屋产权属性\n",
    "<br>property_year-产权年限\n",
    "<br>year-房屋建成年代"
   ]
  },
  {
   "cell_type": "markdown",
   "metadata": {},
   "source": [
    "### 四、数据清洗"
   ]
  },
  {
   "cell_type": "code",
   "execution_count": 1,
   "metadata": {
    "collapsed": true
   },
   "outputs": [],
   "source": [
    "import pymongo\n",
    "import pandas as pd\n",
    "import numpy as np\n",
    "import datetime\n",
    "import matplotlib.pyplot as plt\n",
    "%matplotlib inline"
   ]
  },
  {
   "cell_type": "code",
   "execution_count": 2,
   "metadata": {
    "collapsed": true
   },
   "outputs": [],
   "source": [
    "plt.rcParams['font.sans-serif']=['SimHei'] #用来正常显示中文标签\n",
    "plt.rcParams['axes.unicode_minus']=False #用来正常显示负号"
   ]
  },
  {
   "cell_type": "code",
   "execution_count": 3,
   "metadata": {
    "collapsed": false
   },
   "outputs": [
    {
     "data": {
      "text/html": [
       "<div>\n",
       "<table border=\"1\" class=\"dataframe\">\n",
       "  <thead>\n",
       "    <tr style=\"text-align: right;\">\n",
       "      <th></th>\n",
       "      <th>_id</th>\n",
       "      <th>area</th>\n",
       "      <th>direction</th>\n",
       "      <th>elevator</th>\n",
       "      <th>fitment</th>\n",
       "      <th>location</th>\n",
       "      <th>name</th>\n",
       "      <th>property</th>\n",
       "      <th>property_year</th>\n",
       "      <th>purpose</th>\n",
       "      <th>residential</th>\n",
       "      <th>time</th>\n",
       "      <th>total_price</th>\n",
       "      <th>type</th>\n",
       "      <th>unit_price</th>\n",
       "      <th>year</th>\n",
       "    </tr>\n",
       "  </thead>\n",
       "  <tbody>\n",
       "    <tr>\n",
       "      <th>0</th>\n",
       "      <td>5e9193f5df50f1be5d63c335</td>\n",
       "      <td>79.23㎡</td>\n",
       "      <td>南 北</td>\n",
       "      <td>有</td>\n",
       "      <td>精装</td>\n",
       "      <td>翔安 马巷</td>\n",
       "      <td>海翼0592 2室2厅 79.23平米</td>\n",
       "      <td>商品房</td>\n",
       "      <td>70年</td>\n",
       "      <td>普通住宅</td>\n",
       "      <td>海翼0592</td>\n",
       "      <td>2020.03.24</td>\n",
       "      <td>166</td>\n",
       "      <td>2室2厅1厨1卫</td>\n",
       "      <td>20952</td>\n",
       "      <td>未知</td>\n",
       "    </tr>\n",
       "  </tbody>\n",
       "</table>\n",
       "</div>"
      ],
      "text/plain": [
       "                        _id              area direction      elevator  \\\n",
       "0  5e9193f5df50f1be5d63c335  79.23㎡              南 北     有              \n",
       "\n",
       "   fitment location                 name       property   property_year  \\\n",
       "0  精装         翔安 马巷  海翼0592 2室2厅 79.23平米  商品房            70年              \n",
       "\n",
       "          purpose residential        time total_price              type  \\\n",
       "0  普通住宅                海翼0592  2020.03.24         166  2室2厅1厨1卫           \n",
       "\n",
       "  unit_price year  \n",
       "0      20952  未知   "
      ]
     },
     "execution_count": 3,
     "metadata": {},
     "output_type": "execute_result"
    }
   ],
   "source": [
    "client = pymongo.MongoClient(host='localhost', port=27017)\n",
    "db = client['lianjia']\n",
    "cursor = db['deal_2020_4_11'].find()\n",
    "df = pd.DataFrame(list(cursor))\n",
    "df.head(1)"
   ]
  },
  {
   "cell_type": "code",
   "execution_count": 4,
   "metadata": {
    "collapsed": true
   },
   "outputs": [],
   "source": [
    "# id列为无用信息，取不包含id列的子集\n",
    "df_deal = df.iloc[:,1:].copy()"
   ]
  },
  {
   "cell_type": "code",
   "execution_count": 5,
   "metadata": {
    "collapsed": false
   },
   "outputs": [],
   "source": [
    "# 将所有列中数据前后空格去除\n",
    "for col in df_deal.columns:\n",
    "    df_deal[col] = df_deal[col].apply(lambda x : x.strip())"
   ]
  },
  {
   "cell_type": "code",
   "execution_count": 6,
   "metadata": {
    "collapsed": false
   },
   "outputs": [
    {
     "data": {
      "text/plain": [
       "array(['普通住宅', '商业办公类', '车库', '别墅', '平房'], dtype=object)"
      ]
     },
     "execution_count": 6,
     "metadata": {},
     "output_type": "execute_result"
    }
   ],
   "source": [
    "df_deal['purpose'].unique()"
   ]
  },
  {
   "cell_type": "code",
   "execution_count": 7,
   "metadata": {
    "collapsed": false
   },
   "outputs": [
    {
     "data": {
      "text/plain": [
       "array(['普通住宅', '商业办公类', '别墅', '平房'], dtype=object)"
      ]
     },
     "execution_count": 7,
     "metadata": {},
     "output_type": "execute_result"
    }
   ],
   "source": [
    "# 将purpose为‘车库’的行去除\n",
    "df_deal = df_deal[~df_deal['purpose'].str.contains('车库')]\n",
    "df_deal['purpose'].unique()"
   ]
  },
  {
   "cell_type": "code",
   "execution_count": 8,
   "metadata": {
    "collapsed": false
   },
   "outputs": [
    {
     "data": {
      "text/plain": [
       "Index(['area/㎡', 'direction', 'elevator', 'fitment', 'location', 'name',\n",
       "       'property', 'property_year', 'purpose', 'residential', 'time',\n",
       "       'total_price/ten_thousand', 'type', 'unit_price/yuan', 'year'],\n",
       "      dtype='object')"
      ]
     },
     "execution_count": 8,
     "metadata": {},
     "output_type": "execute_result"
    }
   ],
   "source": [
    "# 将‘面积’、‘房子总价’、‘单价’列加上单位\n",
    "df_deal.rename(columns={'area':'area/㎡','total_price':'total_price/ten_thousand','unit_price':'unit_price/yuan'},inplace=True)\n",
    "df_deal.columns"
   ]
  },
  {
   "cell_type": "code",
   "execution_count": 9,
   "metadata": {
    "collapsed": false
   },
   "outputs": [
    {
     "data": {
      "text/html": [
       "<div>\n",
       "<table border=\"1\" class=\"dataframe\">\n",
       "  <thead>\n",
       "    <tr style=\"text-align: right;\">\n",
       "      <th></th>\n",
       "      <th>area/㎡</th>\n",
       "      <th>direction</th>\n",
       "      <th>elevator</th>\n",
       "      <th>fitment</th>\n",
       "      <th>location</th>\n",
       "      <th>name</th>\n",
       "      <th>property</th>\n",
       "      <th>property_year</th>\n",
       "      <th>purpose</th>\n",
       "      <th>residential</th>\n",
       "      <th>time</th>\n",
       "      <th>total_price/ten_thousand</th>\n",
       "      <th>type</th>\n",
       "      <th>unit_price/yuan</th>\n",
       "      <th>year</th>\n",
       "    </tr>\n",
       "  </thead>\n",
       "  <tbody>\n",
       "    <tr>\n",
       "      <th>0</th>\n",
       "      <td>79</td>\n",
       "      <td>南 北</td>\n",
       "      <td>有</td>\n",
       "      <td>精装</td>\n",
       "      <td>翔安 马巷</td>\n",
       "      <td>海翼0592 2室2厅 79.23平米</td>\n",
       "      <td>商品房</td>\n",
       "      <td>70</td>\n",
       "      <td>普通住宅</td>\n",
       "      <td>海翼0592</td>\n",
       "      <td>2020.03.24</td>\n",
       "      <td>166</td>\n",
       "      <td>2室2厅1厨1卫</td>\n",
       "      <td>20952</td>\n",
       "      <td>未知</td>\n",
       "    </tr>\n",
       "    <tr>\n",
       "      <th>1</th>\n",
       "      <td>95</td>\n",
       "      <td>南 北</td>\n",
       "      <td>有</td>\n",
       "      <td>毛坯</td>\n",
       "      <td>翔安 翔安新城</td>\n",
       "      <td>阳光城翡丽湾二期 3室1厅 95平米</td>\n",
       "      <td>商品房</td>\n",
       "      <td>70</td>\n",
       "      <td>普通住宅</td>\n",
       "      <td>阳光城翡丽湾二期</td>\n",
       "      <td>2020.03.23</td>\n",
       "      <td>251</td>\n",
       "      <td>3室1厅1厨1卫</td>\n",
       "      <td>26422</td>\n",
       "      <td>2015</td>\n",
       "    </tr>\n",
       "  </tbody>\n",
       "</table>\n",
       "</div>"
      ],
      "text/plain": [
       "  area/㎡ direction elevator fitment location                 name property  \\\n",
       "0     79       南 北        有      精装    翔安 马巷  海翼0592 2室2厅 79.23平米      商品房   \n",
       "1     95       南 北        有      毛坯  翔安 翔安新城   阳光城翡丽湾二期 3室1厅 95平米      商品房   \n",
       "\n",
       "  property_year purpose residential        time total_price/ten_thousand  \\\n",
       "0            70    普通住宅      海翼0592  2020.03.24                      166   \n",
       "1            70    普通住宅    阳光城翡丽湾二期  2020.03.23                      251   \n",
       "\n",
       "       type unit_price/yuan  year  \n",
       "0  2室2厅1厨1卫           20952    未知  \n",
       "1  3室1厅1厨1卫           26422  2015  "
      ]
     },
     "execution_count": 9,
     "metadata": {},
     "output_type": "execute_result"
    }
   ],
   "source": [
    "# 将‘面积’，‘产权年限’列中的各数据项单位去除\n",
    "df_deal['area/㎡'] = df_deal['area/㎡'].str.extract('(\\d+)',expand=True)\n",
    "df_deal['property_year'] = df_deal['property_year'].str.extract('(\\d+)',expand=True)\n",
    "df_deal.head(2)"
   ]
  },
  {
   "cell_type": "code",
   "execution_count": 10,
   "metadata": {
    "collapsed": false
   },
   "outputs": [],
   "source": [
    "# 将‘总价’、‘单价’列数据类型由object转换为int，将‘面积’列的数据类型由object转化为float。\n",
    "df_deal['area/㎡'] = df_deal['area/㎡'].astype('float64')\n",
    "df_deal['total_price/ten_thousand'] = df_deal['total_price/ten_thousand'].astype('int64')\n",
    "df_deal['unit_price/yuan'] = df_deal['unit_price/yuan'].astype('int64')"
   ]
  },
  {
   "cell_type": "code",
   "execution_count": 11,
   "metadata": {
    "collapsed": false
   },
   "outputs": [
    {
     "data": {
      "text/plain": [
       "area/㎡                             float64\n",
       "direction                           object\n",
       "elevator                            object\n",
       "fitment                             object\n",
       "location                            object\n",
       "name                                object\n",
       "property                            object\n",
       "property_year                       object\n",
       "purpose                             object\n",
       "residential                         object\n",
       "time                        datetime64[ns]\n",
       "total_price/ten_thousand             int64\n",
       "type                                object\n",
       "unit_price/yuan                      int64\n",
       "year                                object\n",
       "dtype: object"
      ]
     },
     "execution_count": 11,
     "metadata": {},
     "output_type": "execute_result"
    }
   ],
   "source": [
    "#将列交易时间的数据类型由object更改为datetime\n",
    "df_deal['time'] = pd.to_datetime(df_deal['time'])\n",
    "df_deal.dtypes"
   ]
  },
  {
   "cell_type": "code",
   "execution_count": 12,
   "metadata": {
    "collapsed": false
   },
   "outputs": [],
   "source": [
    "# 新建列‘ym’，该列存储'%Y-%m'格式的交易时间\n",
    "df_deal['ym'] = df_deal['time'].apply(lambda x:datetime.datetime.strftime(x,'%Y-%m'))\n",
    "#新建列‘deal_month’、'deal_year’,分别存储交易的月份和年份\n",
    "df_deal['deal_month'] = df_deal['time'].dt.month\n",
    "df_deal['deal_year'] = df_deal['time'].dt.year"
   ]
  },
  {
   "cell_type": "code",
   "execution_count": 13,
   "metadata": {
    "collapsed": true
   },
   "outputs": [],
   "source": [
    "# 新建列‘region’，该列存储房产所在的区域\n",
    "df_deal['region'] = df_deal['location'].apply(lambda x:x.split()[0])"
   ]
  },
  {
   "cell_type": "code",
   "execution_count": 14,
   "metadata": {
    "collapsed": false
   },
   "outputs": [
    {
     "name": "stdout",
     "output_type": "stream",
     "text": [
      "<class 'pandas.core.frame.DataFrame'>\n",
      "Int64Index: 7867 entries, 0 to 8324\n",
      "Data columns (total 19 columns):\n",
      "area/㎡                      7867 non-null float64\n",
      "direction                   7867 non-null object\n",
      "elevator                    7867 non-null object\n",
      "fitment                     7867 non-null object\n",
      "location                    7867 non-null object\n",
      "name                        7867 non-null object\n",
      "property                    7867 non-null object\n",
      "property_year               7835 non-null object\n",
      "purpose                     7867 non-null object\n",
      "residential                 7867 non-null object\n",
      "time                        7867 non-null datetime64[ns]\n",
      "total_price/ten_thousand    7867 non-null int64\n",
      "type                        7867 non-null object\n",
      "unit_price/yuan             7867 non-null int64\n",
      "year                        7867 non-null object\n",
      "ym                          7867 non-null object\n",
      "deal_month                  7867 non-null int64\n",
      "deal_year                   7867 non-null int64\n",
      "region                      7867 non-null object\n",
      "dtypes: datetime64[ns](1), float64(1), int64(4), object(13)\n",
      "memory usage: 1.2+ MB\n"
     ]
    }
   ],
   "source": [
    "df_deal.info()"
   ]
  },
  {
   "cell_type": "markdown",
   "metadata": {},
   "source": [
    "### 五、数据分析及可视化"
   ]
  },
  {
   "cell_type": "markdown",
   "metadata": {},
   "source": [
    "#### 1.交易数量随时间的变化情况"
   ]
  },
  {
   "cell_type": "code",
   "execution_count": 15,
   "metadata": {
    "collapsed": false
   },
   "outputs": [
    {
     "name": "stdout",
     "output_type": "stream",
     "text": [
      "2015-05\n",
      "2020-03\n"
     ]
    }
   ],
   "source": [
    "print(df_deal['ym'].unique().min())\n",
    "print(df_deal['ym'].unique().max())"
   ]
  },
  {
   "cell_type": "code",
   "execution_count": 16,
   "metadata": {
    "collapsed": false
   },
   "outputs": [
    {
     "data": {
      "text/plain": [
       "(7866, 19)"
      ]
     },
     "execution_count": 16,
     "metadata": {},
     "output_type": "execute_result"
    }
   ],
   "source": [
    "# 本项目采集了2015年5月到2020年3月的链家网二手房交易数据，\n",
    "# 为解决2015年5月数据不完整的情况，在研究交易数量随时间的变化情况前，将2015年5月这个月份的数据删除。\n",
    "deal_time = df_deal[~df_deal['ym'].str.contains('2020-3|2015-05')]\n",
    "deal_time.shape"
   ]
  },
  {
   "cell_type": "code",
   "execution_count": 17,
   "metadata": {
    "collapsed": false
   },
   "outputs": [
    {
     "data": {
      "text/plain": [
       "<matplotlib.axes._subplots.AxesSubplot at 0xb3d9f98>"
      ]
     },
     "execution_count": 17,
     "metadata": {},
     "output_type": "execute_result"
    },
    {
     "data": {
      "image/png": "[encoded data removed]",
      "text/plain": [
       "<matplotlib.figure.Figure at 0xb3dd438>"
      ]
     },
     "metadata": {},
     "output_type": "display_data"
    }
   ],
   "source": [
    "deal_time = deal_time.groupby('ym').count()['direction']\n",
    "deal_time.plot(kind='bar',x=u'交易时间',y='数量',title=u'交易时间与交易数量分布图', figsize=(16,6))"
   ]
  },
  {
   "cell_type": "markdown",
   "metadata": {},
   "source": [
    "链家网厦门市2015年6月到2020年3月的二手房交易数量为7866条，交易数量与交易时间的分布如上图所示。"
   ]
  },
  {
   "cell_type": "markdown",
   "metadata": {},
   "source": [
    "#### 2.交易数量随月份的变化"
   ]
  },
  {
   "cell_type": "code",
   "execution_count": 18,
   "metadata": {
    "collapsed": false
   },
   "outputs": [
    {
     "data": {
      "text/plain": [
       "(7214, 19)"
      ]
     },
     "execution_count": 18,
     "metadata": {},
     "output_type": "execute_result"
    }
   ],
   "source": [
    "#数据记录了2015-05年到2020-03之间的链家网二手房的交易数据，为了分析交易数量随月份的变化，删除了2015年5月到2016年3月的数据。\n",
    "house_month = df_deal[~df_deal['ym'].str.contains('2015-05|2015-06|2015-07|2015-08|2015-09|2015-10|2015-11|2015-12|2016-01|2016-02|2016-03')]\n",
    "house_month.shape"
   ]
  },
  {
   "cell_type": "code",
   "execution_count": 19,
   "metadata": {
    "collapsed": false
   },
   "outputs": [
    {
     "data": {
      "text/plain": [
       "deal_month\n",
       "1      763\n",
       "2      381\n",
       "3     1214\n",
       "4      620\n",
       "5      589\n",
       "6      431\n",
       "7      300\n",
       "8      507\n",
       "9      497\n",
       "10     482\n",
       "11     584\n",
       "12     846\n",
       "Name: direction, dtype: int64"
      ]
     },
     "execution_count": 19,
     "metadata": {},
     "output_type": "execute_result"
    }
   ],
   "source": [
    "house_month = house_month.groupby('deal_month').count()['direction']\n",
    "house_month"
   ]
  },
  {
   "cell_type": "code",
   "execution_count": 20,
   "metadata": {
    "collapsed": false
   },
   "outputs": [
    {
     "data": {
      "text/plain": [
       "<matplotlib.axes._subplots.AxesSubplot at 0xb4ab898>"
      ]
     },
     "execution_count": 20,
     "metadata": {},
     "output_type": "execute_result"
    },
    {
     "data": {
      "image/png": "[encoded data removed]",
      "text/plain": [
       "<matplotlib.figure.Figure at 0xb476cf8>"
      ]
     },
     "metadata": {},
     "output_type": "display_data"
    }
   ],
   "source": [
    "labels=['一月','二月','三月','四月','五月','六月','七月','八月','九月','十月','十一月','十二月']\n",
    "explode=(0.05,0.0,0.05,0.05,0.05,0.0,0.0,0.0,0.0,0.0,0.05,0.05)\n",
    "colors = ['tomato', 'lightskyblue', 'goldenrod', 'green', 'y','tomato', 'lightskyblue', 'goldenrod', 'green', 'y','tomato', 'lightskyblue']\n",
    "title = u'月份与交易数量分布图'\n",
    "plt.title(title,fontsize=20)\n",
    "house_month.plot(kind='pie',labels=labels,title=title,autopct='%1.1f%%', figsize=(8,8),explode=explode, fontsize=12,colors=colors)"
   ]
  },
  {
   "cell_type": "markdown",
   "metadata": {},
   "source": [
    "结论：分析了2016年4月到2020年3月链家网记录的7214条厦门二手房的交易记录，从户型与交易数量分布图可以看到一年有两个交易的高峰，3月到5月和11月到1月，此外三月是交易的最高峰，2016到2020年3月份的成交数量占记录总数的百分之16.8 ，数量为1214套。"
   ]
  },
  {
   "cell_type": "markdown",
   "metadata": {},
   "source": [
    "#### 3.哪几种户型最受欢迎"
   ]
  },
  {
   "cell_type": "code",
   "execution_count": 21,
   "metadata": {
    "collapsed": false
   },
   "outputs": [
    {
     "data": {
      "text/plain": [
       "(7856, 19)"
      ]
     },
     "execution_count": 21,
     "metadata": {},
     "output_type": "execute_result"
    }
   ],
   "source": [
    "#将type列中包含字段‘- -室- -厅’删除\n",
    "df_type = df_deal[~df_deal['type'].str.contains('- -室- -厅')]\n",
    "df_type.shape"
   ]
  },
  {
   "cell_type": "code",
   "execution_count": 22,
   "metadata": {
    "collapsed": false
   },
   "outputs": [
    {
     "data": {
      "text/plain": [
       "2室2厅1厨1卫    1477\n",
       "3室2厅1厨2卫    1382\n",
       "2室1厅1厨1卫    1284\n",
       "1室1厅1厨1卫     841\n",
       "3室2厅1厨1卫     802\n",
       "4室2厅1厨2卫     428\n",
       "3室1厅1厨1卫     315\n",
       "1室0厅1厨1卫     311\n",
       "2室2厅1厨2卫     142\n",
       "3室1厅1厨2卫     119\n",
       "Name: type, dtype: int64"
      ]
     },
     "execution_count": 22,
     "metadata": {},
     "output_type": "execute_result"
    }
   ],
   "source": [
    "house_type = df_type['type'].value_counts()\n",
    "house_type.head(10)"
   ]
  },
  {
   "cell_type": "code",
   "execution_count": 23,
   "metadata": {
    "collapsed": false
   },
   "outputs": [
    {
     "data": {
      "text/plain": [
       "<matplotlib.axes._subplots.AxesSubplot at 0xb457eb8>"
      ]
     },
     "execution_count": 23,
     "metadata": {},
     "output_type": "execute_result"
    },
    {
     "data": {
      "image/png": "[encoded data removed]",
      "text/plain": [
       "<matplotlib.figure.Figure at 0xb5859b0>"
      ]
     },
     "metadata": {},
     "output_type": "display_data"
    }
   ],
   "source": [
    "house_type.head(10).plot(kind='bar',x=u'户型',y=u'数量',title=u'户型与交易数量分布图', figsize=(8,6))"
   ]
  },
  {
   "cell_type": "markdown",
   "metadata": {},
   "source": [
    "结论：根据链家网厦门市二手房2015年5月到2019年11月的7856条交易数据可知，成交量最多的前三名户型分别是：2室2厅1厨1卫、3室2厅1厨2卫、2室1厅1厨1卫。"
   ]
  },
  {
   "cell_type": "markdown",
   "metadata": {},
   "source": [
    "#### 4.不同区域的房产均价"
   ]
  },
  {
   "cell_type": "code",
   "execution_count": 25,
   "metadata": {
    "collapsed": false,
    "scrolled": true
   },
   "outputs": [
    {
     "data": {
      "text/plain": [
       "region\n",
       "同安    26190.451128\n",
       "思明    46372.013909\n",
       "海沧    29440.036829\n",
       "湖里    40899.410356\n",
       "翔安    24799.805471\n",
       "集美    29478.907153\n",
       "Name: unit_price/yuan, dtype: float64"
      ]
     },
     "execution_count": 25,
     "metadata": {},
     "output_type": "execute_result"
    }
   ],
   "source": [
    "house_region = df_deal.groupby(['region']).mean()['unit_price/yuan']\n",
    "house_region"
   ]
  },
  {
   "cell_type": "code",
   "execution_count": 26,
   "metadata": {
    "collapsed": false
   },
   "outputs": [
    {
     "data": {
      "text/html": [
       "<div>\n",
       "<table border=\"1\" class=\"dataframe\">\n",
       "  <thead>\n",
       "    <tr>\n",
       "      <th></th>\n",
       "      <th>mean</th>\n",
       "    </tr>\n",
       "    <tr>\n",
       "      <th></th>\n",
       "      <th>unit_price/yuan</th>\n",
       "    </tr>\n",
       "    <tr>\n",
       "      <th>region</th>\n",
       "      <th></th>\n",
       "    </tr>\n",
       "  </thead>\n",
       "  <tbody>\n",
       "    <tr>\n",
       "      <th>同安</th>\n",
       "      <td>26190.451128</td>\n",
       "    </tr>\n",
       "    <tr>\n",
       "      <th>思明</th>\n",
       "      <td>46372.013909</td>\n",
       "    </tr>\n",
       "    <tr>\n",
       "      <th>海沧</th>\n",
       "      <td>29440.036829</td>\n",
       "    </tr>\n",
       "    <tr>\n",
       "      <th>湖里</th>\n",
       "      <td>40899.410356</td>\n",
       "    </tr>\n",
       "    <tr>\n",
       "      <th>翔安</th>\n",
       "      <td>24799.805471</td>\n",
       "    </tr>\n",
       "    <tr>\n",
       "      <th>集美</th>\n",
       "      <td>29478.907153</td>\n",
       "    </tr>\n",
       "  </tbody>\n",
       "</table>\n",
       "</div>"
      ],
      "text/plain": [
       "                  mean\n",
       "       unit_price/yuan\n",
       "region                \n",
       "同安        26190.451128\n",
       "思明        46372.013909\n",
       "海沧        29440.036829\n",
       "湖里        40899.410356\n",
       "翔安        24799.805471\n",
       "集美        29478.907153"
      ]
     },
     "execution_count": 26,
     "metadata": {},
     "output_type": "execute_result"
    }
   ],
   "source": [
    "df_deal.pivot_table(index='region',values=['unit_price/yuan'],aggfunc=[np.mean])"
   ]
  },
  {
   "cell_type": "markdown",
   "metadata": {},
   "source": [
    "分析链家网厦门市二手房从2015年5月到2020年4月的7867条交易数据来看，岛内的房价远高于岛外的房价，岛内思明区的房价最高；岛外，海沧区和集美区的房价相差不大，高于同安区的房价，而同安区的房价又高于翔安区的房价。"
   ]
  },
  {
   "cell_type": "markdown",
   "metadata": {},
   "source": [
    "#### 5.单位面积价格是否受到产权属性的影响"
   ]
  },
  {
   "cell_type": "code",
   "execution_count": 24,
   "metadata": {
    "collapsed": false
   },
   "outputs": [
    {
     "data": {
      "text/html": [
       "<div>\n",
       "<table border=\"1\" class=\"dataframe\">\n",
       "  <thead>\n",
       "    <tr>\n",
       "      <th></th>\n",
       "      <th></th>\n",
       "      <th>mean</th>\n",
       "    </tr>\n",
       "    <tr>\n",
       "      <th></th>\n",
       "      <th></th>\n",
       "      <th>unit_price/yuan</th>\n",
       "    </tr>\n",
       "    <tr>\n",
       "      <th>region</th>\n",
       "      <th>purpose</th>\n",
       "      <th></th>\n",
       "    </tr>\n",
       "  </thead>\n",
       "  <tbody>\n",
       "    <tr>\n",
       "      <th rowspan=\"2\" valign=\"top\">同安</th>\n",
       "      <th>别墅</th>\n",
       "      <td>22529.666667</td>\n",
       "    </tr>\n",
       "    <tr>\n",
       "      <th>普通住宅</th>\n",
       "      <td>26274.930769</td>\n",
       "    </tr>\n",
       "    <tr>\n",
       "      <th rowspan=\"3\" valign=\"top\">思明</th>\n",
       "      <th>别墅</th>\n",
       "      <td>51695.000000</td>\n",
       "    </tr>\n",
       "    <tr>\n",
       "      <th>商业办公类</th>\n",
       "      <td>25384.200000</td>\n",
       "    </tr>\n",
       "    <tr>\n",
       "      <th>普通住宅</th>\n",
       "      <td>46445.252417</td>\n",
       "    </tr>\n",
       "    <tr>\n",
       "      <th rowspan=\"4\" valign=\"top\">海沧</th>\n",
       "      <th>别墅</th>\n",
       "      <td>40482.333333</td>\n",
       "    </tr>\n",
       "    <tr>\n",
       "      <th>商业办公类</th>\n",
       "      <td>24658.428571</td>\n",
       "    </tr>\n",
       "    <tr>\n",
       "      <th>平房</th>\n",
       "      <td>23112.000000</td>\n",
       "    </tr>\n",
       "    <tr>\n",
       "      <th>普通住宅</th>\n",
       "      <td>29541.674556</td>\n",
       "    </tr>\n",
       "    <tr>\n",
       "      <th rowspan=\"3\" valign=\"top\">湖里</th>\n",
       "      <th>别墅</th>\n",
       "      <td>55163.666667</td>\n",
       "    </tr>\n",
       "    <tr>\n",
       "      <th>商业办公类</th>\n",
       "      <td>22592.627778</td>\n",
       "    </tr>\n",
       "    <tr>\n",
       "      <th>普通住宅</th>\n",
       "      <td>43261.172921</td>\n",
       "    </tr>\n",
       "    <tr>\n",
       "      <th rowspan=\"3\" valign=\"top\">翔安</th>\n",
       "      <th>别墅</th>\n",
       "      <td>32060.666667</td>\n",
       "    </tr>\n",
       "    <tr>\n",
       "      <th>商业办公类</th>\n",
       "      <td>13053.500000</td>\n",
       "    </tr>\n",
       "    <tr>\n",
       "      <th>普通住宅</th>\n",
       "      <td>25257.067308</td>\n",
       "    </tr>\n",
       "    <tr>\n",
       "      <th rowspan=\"3\" valign=\"top\">集美</th>\n",
       "      <th>别墅</th>\n",
       "      <td>30878.666667</td>\n",
       "    </tr>\n",
       "    <tr>\n",
       "      <th>商业办公类</th>\n",
       "      <td>20117.897436</td>\n",
       "    </tr>\n",
       "    <tr>\n",
       "      <th>普通住宅</th>\n",
       "      <td>29727.148254</td>\n",
       "    </tr>\n",
       "  </tbody>\n",
       "</table>\n",
       "</div>"
      ],
      "text/plain": [
       "                          mean\n",
       "               unit_price/yuan\n",
       "region purpose                \n",
       "同安     别墅         22529.666667\n",
       "       普通住宅       26274.930769\n",
       "思明     别墅         51695.000000\n",
       "       商业办公类      25384.200000\n",
       "       普通住宅       46445.252417\n",
       "海沧     别墅         40482.333333\n",
       "       商业办公类      24658.428571\n",
       "       平房         23112.000000\n",
       "       普通住宅       29541.674556\n",
       "湖里     别墅         55163.666667\n",
       "       商业办公类      22592.627778\n",
       "       普通住宅       43261.172921\n",
       "翔安     别墅         32060.666667\n",
       "       商业办公类      13053.500000\n",
       "       普通住宅       25257.067308\n",
       "集美     别墅         30878.666667\n",
       "       商业办公类      20117.897436\n",
       "       普通住宅       29727.148254"
      ]
     },
     "execution_count": 24,
     "metadata": {},
     "output_type": "execute_result"
    }
   ],
   "source": [
    "df_deal.pivot_table(index=['region','purpose'],values=['unit_price/yuan'],aggfunc=[np.mean])"
   ]
  },
  {
   "cell_type": "markdown",
   "metadata": {},
   "source": [
    "对于思明、湖里、集美、翔安、海沧，皆为别墅房价>普通住宅房价>商业办公类房价。"
   ]
  },
  {
   "cell_type": "markdown",
   "metadata": {},
   "source": []
  }
 ],
 "metadata": {
  "kernelspec": {
   "display_name": "Python 3",
   "language": "python",
   "name": "python3"
  },
  "language_info": {
   "codemirror_mode": {
    "name": "ipython",
    "version": 3
   },
   "file_extension": ".py",
   "mimetype": "text/x-python",
   "name": "python",
   "nbconvert_exporter": "python",
   "pygments_lexer": "ipython3",
   "version": "3.6.0"
  }
 },
 "nbformat": 4,
 "nbformat_minor": 2
}
